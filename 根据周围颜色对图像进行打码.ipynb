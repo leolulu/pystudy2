{
 "cells": [
  {
   "cell_type": "code",
   "execution_count": 1,
   "metadata": {},
   "outputs": [],
   "source": [
    "from PIL import Image\n",
    "import time"
   ]
  },
  {
   "cell_type": "code",
   "execution_count": 2,
   "metadata": {},
   "outputs": [],
   "source": [
    "b = Image.open('QQ截图20181219142147.png')"
   ]
  },
  {
   "cell_type": "code",
   "execution_count": 3,
   "metadata": {},
   "outputs": [],
   "source": [
    "# (121, 134, 203, 255)"
   ]
  },
  {
   "cell_type": "code",
   "execution_count": 4,
   "metadata": {},
   "outputs": [
    {
     "ename": "NameError",
     "evalue": "name 'basecolor' is not defined",
     "output_type": "error",
     "traceback": [
      "\u001b[1;31m---------------------------------------------------------------------------\u001b[0m",
      "\u001b[1;31mNameError\u001b[0m                                 Traceback (most recent call last)",
      "\u001b[1;32m<ipython-input-4-e91df668b87a>\u001b[0m in \u001b[0;36m<module>\u001b[1;34m()\u001b[0m\n\u001b[0;32m      1\u001b[0m \u001b[0mnum\u001b[0m \u001b[1;33m=\u001b[0m \u001b[1;36m0\u001b[0m\u001b[1;33m\u001b[0m\u001b[0m\n\u001b[1;32m----> 2\u001b[1;33m \u001b[1;32mfor\u001b[0m \u001b[0mh\u001b[0m \u001b[1;32min\u001b[0m \u001b[0mrange\u001b[0m\u001b[1;33m(\u001b[0m\u001b[0mbasecolor\u001b[0m\u001b[1;33m.\u001b[0m\u001b[0msize\u001b[0m\u001b[1;33m[\u001b[0m\u001b[1;36m1\u001b[0m\u001b[1;33m]\u001b[0m\u001b[1;33m)\u001b[0m\u001b[1;33m:\u001b[0m\u001b[1;33m\u001b[0m\u001b[0m\n\u001b[0m\u001b[0;32m      3\u001b[0m     \u001b[1;32mfor\u001b[0m \u001b[0mw\u001b[0m \u001b[1;32min\u001b[0m \u001b[0mrange\u001b[0m\u001b[1;33m(\u001b[0m\u001b[0mbasecolor\u001b[0m\u001b[1;33m.\u001b[0m\u001b[0msize\u001b[0m\u001b[1;33m[\u001b[0m\u001b[1;36m0\u001b[0m\u001b[1;33m]\u001b[0m\u001b[1;33m)\u001b[0m\u001b[1;33m:\u001b[0m\u001b[1;33m\u001b[0m\u001b[0m\n\u001b[0;32m      4\u001b[0m         \u001b[0mbasecolor\u001b[0m\u001b[1;33m.\u001b[0m\u001b[0mputpixel\u001b[0m\u001b[1;33m(\u001b[0m\u001b[1;33m(\u001b[0m\u001b[0mw\u001b[0m\u001b[1;33m,\u001b[0m\u001b[0mh\u001b[0m\u001b[1;33m)\u001b[0m\u001b[1;33m,\u001b[0m\u001b[1;33m(\u001b[0m\u001b[1;36m255\u001b[0m\u001b[1;33m,\u001b[0m\u001b[1;36m0\u001b[0m\u001b[1;33m,\u001b[0m\u001b[1;36m0\u001b[0m\u001b[1;33m,\u001b[0m\u001b[1;36m255\u001b[0m\u001b[1;33m)\u001b[0m\u001b[1;33m)\u001b[0m\u001b[1;33m\u001b[0m\u001b[0m\n\u001b[0;32m      5\u001b[0m         \u001b[0mbasecolor\u001b[0m\u001b[1;33m.\u001b[0m\u001b[0msave\u001b[0m\u001b[1;33m(\u001b[0m\u001b[1;34m'./新建文件夹/{}.png'\u001b[0m\u001b[1;33m.\u001b[0m\u001b[0mformat\u001b[0m\u001b[1;33m(\u001b[0m\u001b[0mnum\u001b[0m\u001b[1;33m)\u001b[0m\u001b[1;33m)\u001b[0m\u001b[1;33m\u001b[0m\u001b[0m\n",
      "\u001b[1;31mNameError\u001b[0m: name 'basecolor' is not defined"
     ]
    }
   ],
   "source": [
    "num = 0\n",
    "for h in range(basecolor.size[1]):\n",
    "    for w in range(basecolor.size[0]):\n",
    "        basecolor.putpixel((w,h),(255,0,0,255))\n",
    "        basecolor.save('./新建文件夹/{}.png'.format(num))\n",
    "        num += 1"
   ]
  },
  {
   "cell_type": "code",
   "execution_count": null,
   "metadata": {},
   "outputs": [],
   "source": [
    "b = Image.open('basecolor.png')"
   ]
  },
  {
   "cell_type": "code",
   "execution_count": null,
   "metadata": {},
   "outputs": [
    {
     "name": "stdout",
     "output_type": "stream",
     "text": [
      "第1张图片处理用时30.4秒\n",
      "第2张图片处理用时30.5秒\n",
      "第3张图片处理用时31.0秒\n",
      "第4张图片处理用时33.5秒\n",
      "第5张图片处理用时31.3秒\n",
      "第6张图片处理用时31.5秒\n",
      "第7张图片处理用时30.2秒\n",
      "第8张图片处理用时30.3秒\n",
      "第9张图片处理用时30.1秒\n",
      "第10张图片处理用时30.0秒\n",
      "第11张图片处理用时30.2秒\n",
      "第12张图片处理用时30.1秒\n",
      "第13张图片处理用时30.2秒\n",
      "第14张图片处理用时30.3秒\n",
      "第15张图片处理用时30.2秒\n",
      "第16张图片处理用时30.1秒\n",
      "第17张图片处理用时30.3秒\n",
      "第18张图片处理用时31.8秒\n",
      "第19张图片处理用时33.5秒\n",
      "第20张图片处理用时32.4秒\n",
      "第21张图片处理用时31.7秒\n",
      "第22张图片处理用时30.4秒\n",
      "第23张图片处理用时33.1秒\n",
      "第24张图片处理用时33.2秒\n",
      "第25张图片处理用时33.1秒\n",
      "第26张图片处理用时33.9秒\n",
      "第27张图片处理用时31.4秒\n",
      "第28张图片处理用时31.5秒\n",
      "第29张图片处理用时32.2秒\n",
      "第30张图片处理用时31.6秒\n",
      "第31张图片处理用时30.9秒\n",
      "第32张图片处理用时31.0秒\n",
      "第33张图片处理用时30.8秒\n",
      "第34张图片处理用时30.7秒\n",
      "第35张图片处理用时32.9秒\n",
      "第36张图片处理用时30.8秒\n",
      "第37张图片处理用时31.3秒\n",
      "第38张图片处理用时31.7秒\n",
      "第39张图片处理用时31.5秒\n",
      "第40张图片处理用时30.7秒\n",
      "第41张图片处理用时35.0秒\n",
      "第42张图片处理用时32.2秒\n",
      "第43张图片处理用时31.2秒\n",
      "第44张图片处理用时31.0秒\n",
      "第45张图片处理用时34.3秒\n",
      "第46张图片处理用时31.5秒\n",
      "第47张图片处理用时32.7秒\n",
      "第48张图片处理用时32.3秒\n",
      "第49张图片处理用时31.2秒\n",
      "第50张图片处理用时31.6秒\n",
      "第51张图片处理用时32.3秒\n",
      "第52张图片处理用时30.9秒\n",
      "第53张图片处理用时30.8秒\n",
      "第54张图片处理用时30.5秒\n",
      "第55张图片处理用时31.9秒\n",
      "第56张图片处理用时31.9秒\n",
      "第57张图片处理用时30.5秒\n",
      "第58张图片处理用时31.0秒\n",
      "第59张图片处理用时34.7秒\n",
      "第60张图片处理用时30.9秒\n",
      "第61张图片处理用时30.9秒\n",
      "第62张图片处理用时30.4秒\n",
      "第63张图片处理用时30.3秒\n",
      "第64张图片处理用时30.5秒\n",
      "第65张图片处理用时30.4秒\n"
     ]
    }
   ],
   "source": [
    "for i in range(120):\n",
    "    start = time.time()\n",
    "    near_total_list = []\n",
    "    for h in range(b.size[1]):\n",
    "        for w in range(b.size[0]):\n",
    "            near_total = 0\n",
    "            for y in range(-1,2):\n",
    "                for x in range(-1,2):\n",
    "                    if  x==0 and y==0:\n",
    "                        continue\n",
    "                    try:\n",
    "                        near_total += 1 if b.getpixel((w+x,h+y))[:3] == (121, 134, 203) else 0\n",
    "                    except Exception as e:\n",
    "                        pass\n",
    "            near_total_list.append(near_total)    \n",
    "            if near_total >= 5:\n",
    "                b.putpixel((w,h),(121, 134, 203, 255))\n",
    "    b.save('./新建文件夹/{}.png'.format(i))\n",
    "    print('第{}张图片处理用时{}秒'.format(i+1,round(time.time() - start,1)))                \n",
    "            "
   ]
  },
  {
   "cell_type": "code",
   "execution_count": null,
   "metadata": {},
   "outputs": [],
   "source": [
    "near_total_list"
   ]
  }
 ],
 "metadata": {
  "kernelspec": {
   "display_name": "Python 3",
   "language": "python",
   "name": "python3"
  },
  "language_info": {
   "codemirror_mode": {
    "name": "ipython",
    "version": 3
   },
   "file_extension": ".py",
   "mimetype": "text/x-python",
   "name": "python",
   "nbconvert_exporter": "python",
   "pygments_lexer": "ipython3",
   "version": "3.6.6"
  }
 },
 "nbformat": 4,
 "nbformat_minor": 2
}
